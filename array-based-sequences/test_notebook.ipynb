{
 "cells": [
  {
   "cell_type": "code",
   "execution_count": 4,
   "metadata": {},
   "outputs": [
    {
     "name": "stdout",
     "output_type": "stream",
     "text": [
      "{'0': 0, '1': 1, '2': 2, '3': 3, '4': 4, '5': 5, '6': 6, '7': 7, '8': 8, '9': 9}\n",
      "None\n",
      "1\n"
     ]
    }
   ],
   "source": [
    "dict_nums = {'{num}'.format(num=i):i for i in range(10)}\n",
    "print(dict_nums)\n",
    "\n",
    "class CharToNum:\n",
    "    __slots__ = ['__dict_nums']\n",
    "    def __init__(self) -> None:\n",
    "        self.__dict_nums = {'{num}'.format(num=i):i for i in range(10)}\n",
    "    def char_to_num(self, char):\n",
    "        try:\n",
    "            return self.__dict_nums[char]\n",
    "        except KeyError:\n",
    "            return None\n",
    "\n",
    "\n",
    "char_to_num = CharToNum()\n",
    "print(char_to_num.char_to_num('a'))\n",
    "print(char_to_num.char_to_num('1'))"
   ]
  },
  {
   "cell_type": "code",
   "execution_count": 6,
   "metadata": {},
   "outputs": [
    {
     "name": "stdout",
     "output_type": "stream",
     "text": [
      "hi\n"
     ]
    }
   ],
   "source": [
    "a = 'hi'\n",
    "print(f'{a}')"
   ]
  },
  {
   "cell_type": "code",
   "execution_count": 16,
   "metadata": {},
   "outputs": [
    {
     "name": "stdout",
     "output_type": "stream",
     "text": [
      "2\n",
      "3\n",
      "5\n",
      "7\n",
      "11\n",
      "13\n",
      "17\n",
      "19\n",
      "23\n",
      "29\n",
      "[2, 3, 5, 7, 11, 13, 17, 19, 23, 29]\n"
     ]
    }
   ],
   "source": [
    "# def is_prime(num):\n",
    "#     if num < 2:\n",
    "#         return False\n",
    "#     cur = 2\n",
    "#     while cur  * cur <= num:\n",
    "#         if num % cur == 0:\n",
    "#             return False\n",
    "#         cur += 1\n",
    "\n",
    "# def primes_generator():\n",
    "#     cur = 2\n",
    "#     while True:\n",
    "#         if is_prime(cur):\n",
    "#             yield cur\n",
    "#         cur += 1\n",
    "\n",
    "\n",
    "class PrimeGenerator:\n",
    "    def is_prime(self, num):\n",
    "        if num < 2:\n",
    "            return False\n",
    "        cur = 2\n",
    "        while cur  * cur <= num:\n",
    "            if num % cur == 0:\n",
    "                return False\n",
    "            cur += 1\n",
    "        return True\n",
    "    def __init__(self, primes = []):\n",
    "        self.__cur = 2\n",
    "        self.__primes = primes\n",
    "    def __iter__(self):\n",
    "        return self\n",
    "    def __next__(self):\n",
    "        while True:\n",
    "            cur_is_prime = self._check_in_primes(self.__cur)\n",
    "            if cur_is_prime:\n",
    "                self.__primes.append(self.__cur)\n",
    "                return self.__cur\n",
    "            self.__cur += 1\n",
    "    def __next_2(self):\n",
    "        while True:\n",
    "            cur_is_prime = True\n",
    "            for i in self.__primes:\n",
    "                if self.__cur % i == 0:\n",
    "                    self.__cur += 1\n",
    "                    cur_is_prime = False\n",
    "                    break\n",
    "            if cur_is_prime:\n",
    "                self.__primes.append(self.__cur)\n",
    "                return self.__cur\n",
    "    def _check_in_primes(self, num):\n",
    "        for i in self.__primes:\n",
    "            if num % i == 0:\n",
    "                return False\n",
    "        return True\n",
    "    \n",
    "\n",
    "prime_gen = PrimeGenerator()\n",
    "\n",
    "for i in range(10):\n",
    "    print(next(prime_gen))\n",
    "print(prime_gen._PrimeGenerator__primes)"
   ]
  },
  {
   "cell_type": "code",
   "execution_count": 40,
   "metadata": {},
   "outputs": [
    {
     "name": "stdout",
     "output_type": "stream",
     "text": [
      "9000104\n",
      "28\n"
     ]
    }
   ],
   "source": [
    "from sys import getsizeof\n",
    "\n",
    "arr = [*range(10000000000000000000000000000000000000000000, 10000000000000000000000000000000000001000000, 1)]\n",
    "\n",
    "print(getsizeof(arr))\n",
    "# print(arr)\n",
    "num = 1\n",
    "print(getsizeof(num))"
   ]
  },
  {
   "cell_type": "code",
   "execution_count": 54,
   "metadata": {},
   "outputs": [
    {
     "name": "stdout",
     "output_type": "stream",
     "text": [
      "array('i', [2, 3, 5, 7, 11, 13, 17, 23, 29, 31])\n"
     ]
    },
    {
     "data": {
      "text/plain": [
       "416"
      ]
     },
     "execution_count": 54,
     "metadata": {},
     "output_type": "execute_result"
    }
   ],
   "source": [
    "# array\n",
    "from array import array\n",
    "primes = array('i', [2,3,5,7,11, 13,17, 23, 29, 31])\n",
    "print(primes)\n",
    "getsizeof(array)"
   ]
  },
  {
   "cell_type": "code",
   "execution_count": 57,
   "metadata": {},
   "outputs": [
    {
     "name": "stdout",
     "output_type": "stream",
     "text": [
      "py_object(<NULL>)\n"
     ]
    },
    {
     "data": {
      "text/plain": [
       "120"
      ]
     },
     "execution_count": 57,
     "metadata": {},
     "output_type": "execute_result"
    }
   ],
   "source": [
    "from ctypes import py_object\n",
    "print(py_object())\n",
    "getsizeof(py_object())"
   ]
  },
  {
   "cell_type": "code",
   "execution_count": 2,
   "metadata": {},
   "outputs": [
    {
     "name": "stdout",
     "output_type": "stream",
     "text": [
      "{'Bob': Bob 40 2019-01-04, 'Alice': Alice 20 2019-01-02, 'Carol': Carol 30 2019-01-03}\n"
     ]
    }
   ],
   "source": [
    "class GameEntry:\n",
    "    def __init__(self, name, score, date):\n",
    "        self._name = name\n",
    "        self._score = score\n",
    "        self._date = date\n",
    "    def get_name(self):\n",
    "        return self._name\n",
    "    def get_score(self):\n",
    "        return self._score\n",
    "    def get_date(self):\n",
    "        return self._date\n",
    "    def __repr__(self) -> str:\n",
    "        return f'{self._name} {self._score} {self._date}'\n",
    "\n",
    "class Scoreboard:\n",
    "    def __init__(self):\n",
    "        self._board = {}\n",
    "    def add(self, entry):\n",
    "        if entry.get_name() not in self._board:\n",
    "            self._board[entry.get_name()] = entry\n",
    "            return \n",
    "        if entry.get_score() > self._board[entry.get_name()].get_score():\n",
    "            self._board[entry.get_name()] = entry\n",
    "            return \n",
    "    def remove(self, name):\n",
    "        del self._board[name]\n",
    "    def __iter__(self):\n",
    "        return iter(self._board.values())\n",
    "    def __setitem__(self, name, entry):\n",
    "        self._board[name] = entry\n",
    "    def __getitem__(self, name):\n",
    "        return self._board[name]\n",
    "    def __delitem__(self, name):\n",
    "        del self._board[name]\n",
    "    def __len__(self):\n",
    "        return len(self._board)\n",
    "    def __contains__(self, name):\n",
    "        return name in self._board\n",
    "    def __repr__(self) -> str:\n",
    "        return f'{self._board}'\n",
    "\n",
    "\n",
    "scoreboard = Scoreboard()\n",
    "scoreboard.add(GameEntry('Bob', 10, '2019-01-01'))\n",
    "scoreboard.add(GameEntry('Alice', 20, '2019-01-02'))\n",
    "scoreboard.add(GameEntry('Carol', 30, '2019-01-03'))\n",
    "scoreboard.add(GameEntry('Bob', 40, '2019-01-04'))\n",
    "print(scoreboard)\n",
    "\n"
   ]
  },
  {
   "cell_type": "code",
   "execution_count": 12,
   "metadata": {},
   "outputs": [
    {
     "name": "stdout",
     "output_type": "stream",
     "text": [
      "[Bob 80 2019-01-04, Bob 40 2019-01-04, Bob 40 2019-01-04, Bob 40 2019-01-04, Bob 40 2019-01-04, Bob 40 2019-01-04, Bob 40 2019-01-04, Bob 40 2019-01-04, Carol 30 2019-01-03, Alice 20 2019-01-02]\n"
     ]
    },
    {
     "data": {
      "text/plain": [
       "11"
      ]
     },
     "execution_count": 12,
     "metadata": {},
     "output_type": "execute_result"
    }
   ],
   "source": [
    "from datetime import datetime\n",
    "class Scoreboard:\n",
    "    def __init__(self, capacity=10):\n",
    "        self._board = [GameEntry('none', 0, datetime.today().strftime('%Y-%m-%d %H-%M-%S'))]*capacity\n",
    "        self._n = 0\n",
    "        self._capacity = capacity\n",
    "    def __len__(self):\n",
    "        return self._capacity\n",
    "    def __getitem__(self, i):\n",
    "        return self._board[i]\n",
    "    def __setitem__(self, i, val):\n",
    "        self._board[i] = val\n",
    "        self._n += 1\n",
    "    def __contains__(self, name):\n",
    "        for i in range(self._n):\n",
    "            if self._board[i] and self._board[i].get_name() == name:\n",
    "                return True\n",
    "        return False\n",
    "    def add(self, entry):\n",
    "        for i in range(len(self._board)):\n",
    "            if self._board[i].get_score() < entry.get_score():\n",
    "                self._board.insert(i, entry)\n",
    "                self._n += 1\n",
    "                self._board = [self._board[i] for i in range(self._capacity)]\n",
    "                return\n",
    "    def remove(self, name):\n",
    "        for i in range(self._n):\n",
    "            if self._board[i] and self._board[i].get_name() == name:\n",
    "                self._board[i] = GameEntry('none', 0, datetime.today().strftime('%Y-%m-%d %H-%M-%S'))\n",
    "                return\n",
    "        raise KeyError('name not found')\n",
    "    def __iter__(self):\n",
    "        for i in range(self._n):\n",
    "            if self._board[i]:\n",
    "                yield self._board[i]\n",
    "    def __repr__(self) -> str:\n",
    "        return f'{self._board}'\n",
    "\n",
    "\n",
    "scoreboard = Scoreboard()\n",
    "scoreboard.add(GameEntry('Bob', 10, '2019-01-01'))\n",
    "scoreboard.add(GameEntry('Alice', 20, '2019-01-02'))\n",
    "scoreboard.add(GameEntry('Carol', 30, '2019-01-03'))\n",
    "scoreboard.add(GameEntry('Bob', 40, '2019-01-04'))\n",
    "scoreboard.add(GameEntry('Bob', 80, '2019-01-04'))\n",
    "scoreboard.add(GameEntry('Bob', 40, '2019-01-04'))\n",
    "scoreboard.add(GameEntry('Bob', 40, '2019-01-04'))\n",
    "scoreboard.add(GameEntry('Bob', 40, '2019-01-04'))\n",
    "scoreboard.add(GameEntry('Bob', 40, '2019-01-04'))\n",
    "scoreboard.add(GameEntry('Bob', 40, '2019-01-04'))\n",
    "scoreboard.add(GameEntry('Bob', 40, '2019-01-04'))\n",
    "print(scoreboard)\n",
    "len(scoreboard)"
   ]
  },
  {
   "cell_type": "code",
   "execution_count": 25,
   "metadata": {},
   "outputs": [
    {
     "name": "stdout",
     "output_type": "stream",
     "text": [
      "[1, 2, 6, 13, 34, 54, 66, 66, 79, 98]\n"
     ]
    }
   ],
   "source": [
    "cap = 10\n",
    "n = 0\n",
    "sb = [None] * cap\n",
    "\n",
    "def array_has_none(arr):\n",
    "    return None in arr\n",
    "\n",
    "while True:\n",
    "    num = input('enter a num, q to exit')\n",
    "    if num == 'q':\n",
    "        break\n",
    "    try:\n",
    "        num = int(num)\n",
    "    except ValueError:\n",
    "        print('not a number!!!')\n",
    "        continue\n",
    "    fullcap = n > cap\n",
    "    try:\n",
    "        num_gt = num > sb[cap - 1]\n",
    "    except TypeError:\n",
    "        ...\n",
    "    if not fullcap:\n",
    "        for i in range(cap):\n",
    "            if sb[i] == None:\n",
    "                sb[i] = num\n",
    "                n += 1\n",
    "                break\n",
    "        s = sorted(sb[:n])\n",
    "        sb = s + [None] * (cap - n)\n",
    "    elif num_gt:\n",
    "        pos = None\n",
    "        for i in range(cap):\n",
    "            if sb[i] < num:\n",
    "                pos = i\n",
    "                break\n",
    "        tmp1 = num\n",
    "        tmp2 = None\n",
    "        for i in range(pos, cap):\n",
    "            tmp2 = sb[i]\n",
    "            sb[i] = tmp1\n",
    "            tmp1 = tmp2\n",
    "        n += 1\n",
    "    \n",
    "\n",
    "print(sb)"
   ]
  },
  {
   "cell_type": "code",
   "execution_count": null,
   "metadata": {},
   "outputs": [],
   "source": []
  },
  {
   "cell_type": "code",
   "execution_count": 21,
   "metadata": {},
   "outputs": [
    {
     "name": "stdout",
     "output_type": "stream",
     "text": [
      "[0, 1, 2, 3, 4, 100, 5, 6, 7, 8]\n"
     ]
    }
   ],
   "source": [
    "a = [*range(10)]\n",
    "num = 100\n",
    "tmp = None\n",
    "for i in range(5, 10):\n",
    "    tmp = a[i]\n",
    "    a[i] = num\n",
    "    num = tmp\n",
    "print(a)"
   ]
  },
  {
   "cell_type": "code",
   "execution_count": null,
   "metadata": {},
   "outputs": [],
   "source": []
  },
  {
   "cell_type": "code",
   "execution_count": 18,
   "metadata": {},
   "outputs": [
    {
     "name": "stdout",
     "output_type": "stream",
     "text": [
      "False\n",
      "False\n",
      "False\n",
      "True\n"
     ]
    }
   ],
   "source": [
    "print(not True or False)\n",
    "print((not True) or False)\n",
    "print(not ( True or False))\n",
    "print( True or False)"
   ]
  },
  {
   "cell_type": "code",
   "execution_count": null,
   "metadata": {},
   "outputs": [],
   "source": []
  },
  {
   "cell_type": "code",
   "execution_count": 20,
   "metadata": {},
   "outputs": [
    {
     "name": "stdout",
     "output_type": "stream",
     "text": [
      "true\n"
     ]
    }
   ],
   "source": [
    "if True:\n",
    "    for i in range(3):\n",
    "        if i == 2:\n",
    "            print('true')\n",
    "            break\n",
    "elif True:\n",
    "    print('true2')\n",
    "else:\n",
    "    print('false')"
   ]
  },
  {
   "cell_type": "code",
   "execution_count": null,
   "metadata": {},
   "outputs": [],
   "source": []
  }
 ],
 "metadata": {
  "interpreter": {
   "hash": "3302eebcf7e52c14d71868d015eee8315393a5eb39dbe380d769cb4e6bd351bd"
  },
  "kernelspec": {
   "display_name": "Python 3.8.5 64-bit ('base': conda)",
   "language": "python",
   "name": "python3"
  },
  "language_info": {
   "codemirror_mode": {
    "name": "ipython",
    "version": 3
   },
   "file_extension": ".py",
   "mimetype": "text/x-python",
   "name": "python",
   "nbconvert_exporter": "python",
   "pygments_lexer": "ipython3",
   "version": "3.8.5"
  },
  "orig_nbformat": 4
 },
 "nbformat": 4,
 "nbformat_minor": 2
}
