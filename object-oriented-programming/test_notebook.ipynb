{
 "cells": [
  {
   "cell_type": "code",
   "execution_count": 62,
   "metadata": {},
   "outputs": [
    {
     "name": "stdout",
     "output_type": "stream",
     "text": [
      "None\n"
     ]
    }
   ],
   "source": [
    "dict = {}\n",
    "def get_value(dictionary, key):\n",
    "    try:\n",
    "        return dict['hi']\n",
    "    except KeyError:\n",
    "        return None\n",
    "print(get_value(dict, 'hi'))"
   ]
  },
  {
   "cell_type": "code",
   "execution_count": 63,
   "metadata": {},
   "outputs": [
    {
     "name": "stdout",
     "output_type": "stream",
     "text": [
      "None\n"
     ]
    }
   ],
   "source": [
    "dict = {}\n",
    "def get_value(dictionary, key):\n",
    "    if key in dictionary:\n",
    "        return dictionary[key]\n",
    "    else:\n",
    "        return None\n",
    "print(get_value(dict, 'hi'))"
   ]
  },
  {
   "cell_type": "code",
   "execution_count": 67,
   "metadata": {},
   "outputs": [
    {
     "name": "stdout",
     "output_type": "stream",
     "text": [
      "Name: John\n",
      "Age: 20\n",
      "Name: John\n",
      "Age: 20\n",
      "INVALID OBJECT FORMAT\n"
     ]
    }
   ],
   "source": [
    "from typing import TypedDict\n",
    "Info = TypedDict('Info', {'name':str, 'age':int})\n",
    "def get_info(dictionary:Info, key:str):\n",
    "    \"\"\"\n",
    "    :param dictionary:\n",
    "    :param key:\n",
    "    :return:\n",
    "    \"\"\"\n",
    "    if key in dictionary:\n",
    "        return dictionary[key]\n",
    "    else:\n",
    "        return None\n",
    "def assert_types(obj, type_obj):\n",
    "    for t in type_obj:\n",
    "        if not(t in obj and type(obj[t]) == type_obj[t]):\n",
    "            return False\n",
    "    return True\n",
    "\n",
    "def parse_info(info):\n",
    "    if not assert_types(info, {\"name\": str, \"age\": int}):\n",
    "        print(\"INVALID OBJECT FORMAT\")\n",
    "        return\n",
    "    #continue\n",
    "    print(\"Name: {}\".format(info['name']))\n",
    "    print(\"Age: {}\".format(info['age']))\n",
    "\n",
    "parse_info({\"name\": \"John\", \"age\": 20})\n",
    "parse_info({\"name\": \"John\", \"age\": 20, \"address\": \"123 Main St\"})\n",
    "parse_info({\"name\": \"John\", \"age\": 'hi'})"
   ]
  },
  {
   "cell_type": "code",
   "execution_count": 70,
   "metadata": {},
   "outputs": [
    {
     "name": "stdout",
     "output_type": "stream",
     "text": [
      "INVALID OBJECT FORMAT\n",
      "INVALID OBJECT FORMAT\n",
      "INVALID OBJECT FORMAT\n"
     ]
    }
   ],
   "source": [
    "\n",
    "t = (str, int)\n",
    "def parse_info(info:t):\n",
    "    if not assertTypes(info, t):\n",
    "        print(\"INVALID OBJECT FORMAT\")\n",
    "        return\n",
    "    #continue\n",
    "    print(\"Name: {}\".format(info[0]))\n",
    "    print(\"Age: {}\".format(info[1]))\n",
    "\n",
    "parse_info((\"John\", 20))\n",
    "parse_info((\"John\", 20, \"123 Main St\"))\n",
    "parse_info((\"John\", 'hi'))\n"
   ]
  },
  {
   "cell_type": "code",
   "execution_count": 80,
   "metadata": {},
   "outputs": [
    {
     "name": "stdout",
     "output_type": "stream",
     "text": [
      "True\n",
      "False\n",
      "False\n",
      "True\n",
      "True\n",
      "True\n",
      "True\n"
     ]
    }
   ],
   "source": [
    "def assert_types(src=[], typ=()) -> bool:\n",
    "    \"\"\"\n",
    "    assert that all elements in src are of type typ\\n\n",
    "    assert_types([1, 2, 3], (int, int, int)) -> True\\n\n",
    "    assert_types([1, 2, 3], (int, int, str)) -> False\\n\n",
    "    assert_types([1, 2, 3], (int, int, int, int)) -> False\\n\n",
    "    assert_types([1, 2, 3, None], (int, int, int, int)) -> True\\n\n",
    "    assert_types([1, 2, 3, 'hi'], (int, int, int, str)) -> True\\n\n",
    "    assert_types([None, None], (int, str)) -> True\\n\n",
    "    assert_types() -> True\\n\n",
    "\n",
    "\n",
    "    :param src list:\n",
    "    :param typ tuple:\n",
    "    :return:\n",
    "    \"\"\"\n",
    "    if len(src) != len(typ):\n",
    "        return False\n",
    "    for i in range(len(src)):\n",
    "        if not isinstance(src[i], typ[i]) \\\n",
    "            and src[i] is not None:\n",
    "            return False\n",
    "    return True\n",
    "print(assert_types([1, 2, 3], (int, int, int)))\n",
    "print(assert_types([1, 2, 3], (int, int, str)))\n",
    "print(assert_types([1, 2, 3], (int, int, int, int)))\n",
    "print(assert_types([1, 2, 3, None], (int, int, int, int)))\n",
    "print(assert_types([1, 2, 3, 'hi'], (int, int, int, str)))\n",
    "print(assert_types([None, None], (int, str)))\n",
    "print(assert_types())"
   ]
  },
  {
   "cell_type": "code",
   "execution_count": null,
   "metadata": {},
   "outputs": [],
   "source": []
  }
 ],
 "metadata": {
  "interpreter": {
   "hash": "3302eebcf7e52c14d71868d015eee8315393a5eb39dbe380d769cb4e6bd351bd"
  },
  "kernelspec": {
   "display_name": "Python 3.8.5 64-bit ('base': conda)",
   "language": "python",
   "name": "python3"
  },
  "language_info": {
   "codemirror_mode": {
    "name": "ipython",
    "version": 3
   },
   "file_extension": ".py",
   "mimetype": "text/x-python",
   "name": "python",
   "nbconvert_exporter": "python",
   "pygments_lexer": "ipython3",
   "version": "3.8.5"
  },
  "orig_nbformat": 4
 },
 "nbformat": 4,
 "nbformat_minor": 2
}
