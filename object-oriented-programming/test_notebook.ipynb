{
 "cells": [
  {
   "cell_type": "code",
   "execution_count": 62,
   "metadata": {},
   "outputs": [
    {
     "name": "stdout",
     "output_type": "stream",
     "text": [
      "None\n"
     ]
    }
   ],
   "source": [
    "dict = {}\n",
    "def get_value(dictionary, key):\n",
    "    try:\n",
    "        return dict['hi']\n",
    "    except KeyError:\n",
    "        return None\n",
    "print(get_value(dict, 'hi'))"
   ]
  },
  {
   "cell_type": "code",
   "execution_count": 63,
   "metadata": {},
   "outputs": [
    {
     "name": "stdout",
     "output_type": "stream",
     "text": [
      "None\n"
     ]
    }
   ],
   "source": [
    "dict = {}\n",
    "def get_value(dictionary, key):\n",
    "    if key in dictionary:\n",
    "        return dictionary[key]\n",
    "    else:\n",
    "        return None\n",
    "print(get_value(dict, 'hi'))"
   ]
  },
  {
   "cell_type": "code",
   "execution_count": 67,
   "metadata": {},
   "outputs": [
    {
     "name": "stdout",
     "output_type": "stream",
     "text": [
      "Name: John\n",
      "Age: 20\n",
      "Name: John\n",
      "Age: 20\n",
      "INVALID OBJECT FORMAT\n"
     ]
    }
   ],
   "source": [
    "from typing import TypedDict\n",
    "Info = TypedDict('Info', {'name':str, 'age':int})\n",
    "def get_info(dictionary:Info, key:str):\n",
    "    \"\"\"\n",
    "    :param dictionary:\n",
    "    :param key:\n",
    "    :return:\n",
    "    \"\"\"\n",
    "    if key in dictionary:\n",
    "        return dictionary[key]\n",
    "    else:\n",
    "        return None\n",
    "def assert_types(obj, type_obj):\n",
    "    for t in type_obj:\n",
    "        if not(t in obj and type(obj[t]) == type_obj[t]):\n",
    "            return False\n",
    "    return True\n",
    "\n",
    "def parse_info(info):\n",
    "    if not assert_types(info, {\"name\": str, \"age\": int}):\n",
    "        print(\"INVALID OBJECT FORMAT\")\n",
    "        return\n",
    "    #continue\n",
    "    print(\"Name: {}\".format(info['name']))\n",
    "    print(\"Age: {}\".format(info['age']))\n",
    "\n",
    "parse_info({\"name\": \"John\", \"age\": 20})\n",
    "parse_info({\"name\": \"John\", \"age\": 20, \"address\": \"123 Main St\"})\n",
    "parse_info({\"name\": \"John\", \"age\": 'hi'})"
   ]
  },
  {
   "cell_type": "code",
   "execution_count": 85,
   "metadata": {},
   "outputs": [
    {
     "name": "stdout",
     "output_type": "stream",
     "text": [
      "Name: John\n",
      "Age: 20\n",
      "INVALID OBJECT FORMAT\n",
      "INVALID OBJECT FORMAT\n"
     ]
    }
   ],
   "source": [
    "\n",
    "t = (str, int)\n",
    "def parse_info(info:t):\n",
    "    if not assert_types(info, t):\n",
    "        print(\"INVALID OBJECT FORMAT\")\n",
    "        return\n",
    "    #continue\n",
    "    print(\"Name: {}\".format(info[0]))\n",
    "    print(\"Age: {}\".format(info[1]))\n",
    "\n",
    "parse_info((\"John\", 20))\n",
    "parse_info((\"John\", 20, \"123 Main St\"))\n",
    "parse_info((\"John\", 'hi'))\n"
   ]
  },
  {
   "cell_type": "code",
   "execution_count": 82,
   "metadata": {},
   "outputs": [
    {
     "name": "stdout",
     "output_type": "stream",
     "text": [
      "True\n",
      "False\n",
      "False\n",
      "True\n",
      "True\n",
      "True\n",
      "True\n",
      "Help on function assert_types in module __main__:\n",
      "\n",
      "assert_types(src=[], typ=()) -> bool\n",
      "    assert that all elements in src are of type typ\n",
      "    \n",
      "    assert_types([1, 2, 3], (int, int, int)) -> True\n",
      "    \n",
      "    assert_types([1, 2, 3], (int, int, str)) -> False\n",
      "    \n",
      "    assert_types([1, 2, 3], (int, int, int, int)) -> False\n",
      "    \n",
      "    assert_types([1, 2, 3, None], (int, int, int, int)) -> True\n",
      "    \n",
      "    assert_types([1, 2, 3, 'hi'], (int, int, int, str)) -> True\n",
      "    \n",
      "    assert_types([None, None], (int, str)) -> True\n",
      "    \n",
      "    assert_types() -> True\n",
      "    \n",
      "    \n",
      "    \n",
      "    :param src list:\n",
      "    :param typ tuple:\n",
      "    :return:\n",
      "\n"
     ]
    }
   ],
   "source": [
    "def assert_types(src=[], typ=()) -> bool:\n",
    "    \"\"\"\n",
    "    assert that all elements in src are of type typ\\n\n",
    "    assert_types([1, 2, 3], (int, int, int)) -> True\\n\n",
    "    assert_types([1, 2, 3], (int, int, str)) -> False\\n\n",
    "    assert_types([1, 2, 3], (int, int, int, int)) -> False\\n\n",
    "    assert_types([1, 2, 3, None], (int, int, int, int)) -> True\\n\n",
    "    assert_types([1, 2, 3, 'hi'], (int, int, int, str)) -> True\\n\n",
    "    assert_types([None, None], (int, str)) -> True\\n\n",
    "    assert_types() -> True\\n\n",
    "\n",
    "\n",
    "    :param src list:\n",
    "    :param typ tuple:\n",
    "    :return:\n",
    "    \"\"\"\n",
    "    if len(src) != len(typ):\n",
    "        return False\n",
    "    for i in range(len(src)):\n",
    "        if not isinstance(src[i], typ[i]) \\\n",
    "            and src[i] is not None:\n",
    "            return False\n",
    "    return True\n",
    "print(assert_types([1, 2, 3], (int, int, int)))\n",
    "print(assert_types([1, 2, 3], (int, int, str)))\n",
    "print(assert_types([1, 2, 3], (int, int, int, int)))\n",
    "print(assert_types([1, 2, 3, None], (int, int, int, int)))\n",
    "print(assert_types([1, 2, 3, 'hi'], (int, int, int, str)))\n",
    "print(assert_types([None, None], (int, str)))\n",
    "print(assert_types())\n",
    "help(assert_types)"
   ]
  },
  {
   "cell_type": "code",
   "execution_count": 90,
   "metadata": {},
   "outputs": [
    {
     "name": "stdout",
     "output_type": "stream",
     "text": [
      "[0, 1, 2, 3, 4, 5, 6, 7, 8, 9]\n",
      "[0, 1, 2, 3, 4, 5, 6, 7, 8, 9, None]\n"
     ]
    }
   ],
   "source": [
    "def convert_types(src, typ):\n",
    "    \"\"\"\n",
    "    convert all elements in src to type typ\\n\n",
    "    convert_types(['1', '2', '3'], (int, int, int)) -> [1, 2, 3]\n",
    "    :param src:\n",
    "    :param typ:\n",
    "    :return list:\n",
    "    \"\"\"\n",
    "    if not len(src) == len(typ):\n",
    "        raise ValueError(\"src and typ must be of same length\")\n",
    "    ret = []\n",
    "    for i in range(len(src)):\n",
    "        if src[i] is None:\n",
    "            ret.append(None)\n",
    "        else:\n",
    "            ret.append(typ[i](src[i]))\n",
    "    return ret\n",
    "t = []\n",
    "for i in range(10):\n",
    "    t.append(int)\n",
    "s = []\n",
    "for i in range(10):\n",
    "    s.append(str(i))\n",
    "print(convert_types(s, t))\n",
    "s.append(None)\n",
    "t.append(int)\n",
    "print(convert_types(s, t))\n",
    "\n"
   ]
  },
  {
   "cell_type": "code",
   "execution_count": 96,
   "metadata": {},
   "outputs": [
    {
     "name": "stdout",
     "output_type": "stream",
     "text": [
      "True\n",
      "True\n"
     ]
    }
   ],
   "source": [
    "def is_sorted_asc(list):\n",
    "    prev = list[0]\n",
    "    for i in list:\n",
    "        if i < prev:\n",
    "            return False\n",
    "        prev = i\n",
    "    return True\n",
    "def is_sorted_desc(list):\n",
    "    prev = list[0]\n",
    "    for i in list:\n",
    "        if i > prev:\n",
    "            return False\n",
    "        prev = i\n",
    "    return True\n",
    "\n",
    "print(is_sorted_asc(list(range(10))))\n",
    "l2 = list(range(10))\n",
    "l2.reverse()\n",
    "print(is_sorted_desc(l2))\n"
   ]
  },
  {
   "cell_type": "code",
   "execution_count": 126,
   "metadata": {},
   "outputs": [
    {
     "name": "stdout",
     "output_type": "stream",
     "text": [
      "[[0, 1, 2, 3, 4, 5, 6, 7, 8, 9]]\n",
      "[[1, 2, 5, 6, 8, 15, 66], [34], [33], [32, 60, 61, 62], [55, 55, 55], [0]]\n",
      "[[1, 2], [5]]\n",
      "[[34, 33], [0]]\n",
      "[[1, 2, 5, 6, 8, 15, 66], [32, 60, 61, 62], [55, 55, 55], [0], [34, 33]]\n",
      "[[1, 2, 5, 6, 8, 15, 66], [32, 60, 61, 62], [55, 55, 55], [0], [34, 33]]\n"
     ]
    }
   ],
   "source": [
    "def get_sorted_sublists(list):\n",
    "    \"\"\"\n",
    "    :param list:\n",
    "    :return:\n",
    "    \"\"\"\n",
    "    if is_sorted_asc(list):\n",
    "        return [list] \n",
    "    ret = []\n",
    "    sl = []\n",
    "    for i in range(len(list)): \n",
    "        if i == 0:\n",
    "            if list[i+1] >= list[i]:\n",
    "                sl.append(list[i])\n",
    "            continue\n",
    "\n",
    "        if list[i] >= list[i-1]:\n",
    "            sl.append(list[i])\n",
    "        else:\n",
    "            ret.append(sl)\n",
    "            sl = []\n",
    "            sl.append(list[i])\n",
    "    ret.append(sl)\n",
    "    return ret\n",
    "# note: can do better if created and used comparator function\n",
    "\n",
    "\n",
    "lst = [1,2,5,6,8,15,66,34,33,32,60,61,62,55,55,55,0]\n",
    "print(get_sorted_sublists(list(range(10))))\n",
    "print(get_sorted_sublists(lst))\n",
    "sorted_sublist = get_sorted_sublists(lst)\n",
    "rev_sublist = []\n",
    "indices = []\n",
    "for i in range(len(sorted_sublist)):\n",
    "    if len(sorted_sublist[i]) == 1:\n",
    "        # tmp.append(sorted_sublist[i][0])\n",
    "        indices.append(i)\n",
    "\n",
    "def serial_nums(list):\n",
    "    ret = []\n",
    "    t = []\n",
    "    for i in range(len(list)):\n",
    "        if i == 0:\n",
    "            if list[i+1] == list[i]+1:\n",
    "                t.append(list[i])\n",
    "            continue\n",
    "        if list[i] == list[i-1]+1:\n",
    "            t.append(list[i])\n",
    "        else:\n",
    "            ret.append(t)\n",
    "            t = []\n",
    "            t.append(list[i])\n",
    "    ret.append(t)\n",
    "    return ret\n",
    "print(serial_nums(indices))\n",
    "ser_indices = serial_nums(indices)\n",
    "un = []\n",
    "for i in range(len(ser_indices)):\n",
    "    sl = []\n",
    "    for j in ser_indices[i]:\n",
    "        sl.append(sorted_sublist[j][0])\n",
    "    un.append(sl)\n",
    "\n",
    "print(un)\n",
    "\n",
    "for i in range(len(ser_indices)):\n",
    "    if len(ser_indices[i]) > 1:\n",
    "        elems = []\n",
    "        for j in ser_indices[i]:\n",
    "            elems.append(sorted_sublist[j][0])\n",
    "        sorted_sublist.append(elems)\n",
    "for i in range(len(ser_indices)):\n",
    "    if len(ser_indices[i]) > 1:\n",
    "        ser_indices[i].reverse()\n",
    "        for j in ser_indices[i]:\n",
    "            sorted_sublist.pop(j)\n",
    "\n",
    "\n",
    "print(sorted_sublist)\n",
    "def clone_sl(list):\n",
    "    ret = []\n",
    "    for i in list:\n",
    "        sl = []\n",
    "        for j in i:\n",
    "            sl.append(j)\n",
    "        ret.append(sl)\n",
    "    return ret\n",
    "print(clone_sl(sorted_sublist))"
   ]
  },
  {
   "cell_type": "code",
   "execution_count": null,
   "metadata": {},
   "outputs": [],
   "source": [
    "class CreditCard:\n",
    "    \"\"\"a consumer credit card\"\"\"\n",
    "    def __init__(self, card_num, customer, bank, acnt_type, limit):\n",
    "        self._card_num = card_num\n",
    "        self._customer = customer\n",
    "        self._bank = bank\n",
    "        self._acnt_type = acnt_type\n",
    "        self._limit = limit\n",
    "        self._balance = 0\n",
    "    def get_customer(self):\n",
    "        return self._customer\n",
    "    def get_bank(self):\n",
    "        return self._bank\n",
    "    def get_acnt_type(self):\n",
    "        return self._acnt_type\n",
    "    def get_limit(self):\n",
    "        return self._limit\n",
    "    def set_linit(self, limit):\n",
    "        self._limit = limit\n",
    "    def get_balance(self):\n",
    "        return self._balance\n",
    "    def set_balance(self, balance):\n",
    "        self._balance = balance\n",
    "\n",
    "    def charge(self, price):\n",
    "        if price + self._balance > self._limit:\n",
    "            return False\n",
    "        else:\n",
    "            self._balance += price\n",
    "            return True\n",
    "    def make_payment(self, amount):\n",
    "        self._balance -= amount\n",
    "        \n",
    "    def get_card_num(self):\n",
    "        return self.card_num\n",
    "    def set_card_num(self, card_num):\n",
    "        self.card_num = card_num\n",
    "    def get_card_type(self):\n",
    "        if len(self.card_num) == 15:\n",
    "            return 'American Express'\n",
    "        elif len(self.card_num) == 16:\n",
    "            return 'Visa'\n",
    "        elif len(self.card_num) == 13:\n",
    "            return 'MasterCard'\n",
    "        elif len(self.card_num) == 16:\n",
    "            return 'Discover'\n",
    "        else:\n",
    "            return 'Unknown'\n",
    "    "
   ]
  },
  {
   "cell_type": "code",
   "execution_count": 138,
   "metadata": {},
   "outputs": [
    {
     "data": {
      "text/plain": [
       "True"
      ]
     },
     "execution_count": 138,
     "metadata": {},
     "output_type": "execute_result"
    }
   ],
   "source": [
    "isinstance(4851, (int, float, str))"
   ]
  },
  {
   "cell_type": "code",
   "execution_count": 145,
   "metadata": {},
   "outputs": [],
   "source": [
    "(-1000 ^ -1)+1\n",
    "def abs_int(a):\n",
    "    if not isinstance(a, int):\n",
    "        raise ValueError('argument must be an integer')\n",
    "    if a < 0:\n",
    "        return (a ^ -1) + 1\n",
    "    return a\n",
    "print(abs_int(-1000))\n"
   ]
  },
  {
   "cell_type": "code",
   "execution_count": 147,
   "metadata": {},
   "outputs": [
    {
     "name": "stdout",
     "output_type": "stream",
     "text": [
      "1000.0\n"
     ]
    }
   ],
   "source": [
    "def abs_float(a):\n",
    "    if not isinstance(a, (float, int)):\n",
    "        raise ValueError('argument must be a float')\n",
    "    if a < 0:\n",
    "        return -1 * a\n",
    "    return a\n",
    "print(abs_float(-1000.0))"
   ]
  },
  {
   "cell_type": "code",
   "execution_count": 174,
   "metadata": {},
   "outputs": [
    {
     "name": "stdout",
     "output_type": "stream",
     "text": [
      "writer\n",
      "nana\n",
      "{'jojo': 'writer', 'nana': 'nana', 'kiki': 'kiki'}\n",
      "kiki\n"
     ]
    }
   ],
   "source": [
    "class Cls:\n",
    "    # __slots__ = 'jojo', 'nana'\n",
    "    pass\n",
    "c = Cls()\n",
    "c.jojo=\"writer\"\n",
    "print(c.jojo)\n",
    "c.nana = 'nana'\n",
    "print(c.nana)\n",
    "c.kiki = 'kiki'\n",
    "print(c.__dict__)\n",
    "print(c.kiki)"
   ]
  },
  {
   "cell_type": "code",
   "execution_count": 177,
   "metadata": {},
   "outputs": [
    {
     "name": "stdout",
     "output_type": "stream",
     "text": [
      "[John 20, Mary 21]\n",
      "[Jo 20, Mary 21]\n"
     ]
    }
   ],
   "source": [
    "from copy import deepcopy\n",
    "class Person:\n",
    "    def __init__(self, name, age):\n",
    "        self.name = name\n",
    "        self.age = age\n",
    "    def __repr__(self):\n",
    "        return '{} {}'.format(self.name, self.age)\n",
    "l1 = [Person('John', 20), Person('Mary', 21)]\n",
    "l2 = deepcopy(l1)\n",
    "l2[0].name = 'Jo'\n",
    "print(l1)\n",
    "print(l2)"
   ]
  },
  {
   "cell_type": "code",
   "execution_count": 181,
   "metadata": {},
   "outputs": [
    {
     "name": "stdout",
     "output_type": "stream",
     "text": [
      "fun1\n",
      "fun2\n",
      "John 20\n",
      "fun1\n"
     ]
    }
   ],
   "source": [
    "def fun1():\n",
    "    print('fun1')\n",
    "    fun2()\n",
    "def fun2():\n",
    "    print(\"fun2\")\n",
    "    print(Person('John', 20))\n",
    "    \n",
    "class Person:\n",
    "    def __init__(self, name, age):\n",
    "        self.name = name\n",
    "        self.age = age\n",
    "    def __repr__(self):\n",
    "        return '{} {}'.format(self.name, self.age)\n",
    "fun1()"
   ]
  }
 ],
 "metadata": {
  "interpreter": {
   "hash": "3302eebcf7e52c14d71868d015eee8315393a5eb39dbe380d769cb4e6bd351bd"
  },
  "kernelspec": {
   "display_name": "Python 3.8.5 64-bit ('base': conda)",
   "language": "python",
   "name": "python3"
  },
  "language_info": {
   "codemirror_mode": {
    "name": "ipython",
    "version": 3
   },
   "file_extension": ".py",
   "mimetype": "text/x-python",
   "name": "python",
   "nbconvert_exporter": "python",
   "pygments_lexer": "ipython3",
   "version": "3.8.5"
  },
  "orig_nbformat": 4
 },
 "nbformat": 4,
 "nbformat_minor": 2
}
