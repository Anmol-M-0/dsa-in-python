{
 "cells": [
  {
   "cell_type": "code",
   "execution_count": 5,
   "metadata": {},
   "outputs": [
    {
     "name": "stdout",
     "output_type": "stream",
     "text": [
      "0\n",
      "1\n",
      "2\n",
      "3\n",
      "4\n",
      "5\n",
      "6\n",
      "7\n",
      "8\n",
      "9\n"
     ]
    }
   ],
   "source": [
    "gen = (i for i in range(10))\n",
    "print(next(gen))\n",
    "try:\n",
    "    while True:\n",
    "        print(gen.__next__())\n",
    "except StopIteration:\n",
    "    ...\n"
   ]
  },
  {
   "cell_type": "markdown",
   "metadata": {},
   "source": [
    "### comprehensions\n",
    "- [ k*k for k in range(l, n+1) ] \t- list comprehension\n",
    "- { k*k for k in range(l, n+1) } \t- set comprehension\n",
    "- ( k*k for k in range(l, n+1) ) \t- generator comprehension\n",
    "- { k : k*k for k in range(l, n+1) } \t- dictionary comprehension"
   ]
  },
  {
   "cell_type": "code",
   "execution_count": 7,
   "metadata": {},
   "outputs": [
    {
     "name": "stdout",
     "output_type": "stream",
     "text": [
      "0 0\n",
      "1 1\n",
      "2 4\n",
      "3 9\n",
      "4 16\n",
      "5 25\n",
      "6 36\n",
      "7 49\n",
      "8 64\n",
      "9 81\n"
     ]
    }
   ],
   "source": [
    "for k,v in {k:k*k for k in range(10)}.items():\n",
    "    print(k, v)"
   ]
  },
  {
   "cell_type": "code",
   "execution_count": 11,
   "metadata": {},
   "outputs": [
    {
     "data": {
      "text/plain": [
       "33"
      ]
     },
     "execution_count": 11,
     "metadata": {},
     "output_type": "execute_result"
    }
   ],
   "source": [
    "int(33.67)"
   ]
  },
  {
   "cell_type": "code",
   "execution_count": 32,
   "metadata": {},
   "outputs": [
    {
     "name": "stdout",
     "output_type": "stream",
     "text": [
      "4\n",
      "\n",
      "1\n",
      "\n",
      "8\n",
      "\n",
      "4\n",
      "\n",
      "1\n",
      "\n",
      "8\n",
      "\n",
      "4\n",
      "\n",
      "1\n",
      "\n",
      "8\n",
      "\n"
     ]
    }
   ],
   "source": [
    "# define a function which takes a seed and returns a generator which generates pseudo random numbers\n",
    "# the generator should be able to be called multiple times\n",
    "import random, time\n",
    "def random_generator(seed):\n",
    "    \"\"\"\n",
    "    :param seed:\n",
    "    :return:\n",
    "    \"\"\"\n",
    "    # seed the generator\n",
    "    random.seed(seed)\n",
    "    # define a generator\n",
    "    def generator():\n",
    "        while True:\n",
    "            yield random.random()\n",
    "    # return the generator\n",
    "    return generator\n",
    "for i in range(3):\n",
    "    gen = random_generator(time.time_ns())\n",
    "    g = gen()\n",
    "    for i in range(3):\n",
    "        print(int(next(g)*10))\n",
    "        print()"
   ]
  },
  {
   "cell_type": "code",
   "execution_count": null,
   "metadata": {},
   "outputs": [],
   "source": []
  },
  {
   "cell_type": "code",
   "execution_count": 41,
   "metadata": {},
   "outputs": [
    {
     "name": "stdout",
     "output_type": "stream",
     "text": [
      "0\n",
      "1, 1\n",
      "2, 2\n",
      "3, 3\n",
      "4, 4\n",
      "5, 5\n",
      "6, 6\n",
      "7, 7\n",
      "8, 8\n",
      "9, 9\n",
      "10, "
     ]
    }
   ],
   "source": [
    "def cb(i:int):\n",
    "    def ret():\n",
    "        global i\n",
    "        i+=1\n",
    "        return i\n",
    "    return ret\n",
    "callee = cb(10)\n",
    "for i in range(10):\n",
    "    print(callee(), end=', ')"
   ]
  },
  {
   "cell_type": "code",
   "execution_count": null,
   "metadata": {},
   "outputs": [],
   "source": []
  },
  {
   "cell_type": "code",
   "execution_count": 39,
   "metadata": {},
   "outputs": [
    {
     "name": "stdout",
     "output_type": "stream",
     "text": [
      "10\n"
     ]
    },
    {
     "ename": "NameError",
     "evalue": "name 'n1' is not defined",
     "output_type": "error",
     "traceback": [
      "\u001b[1;31m---------------------------------------------------------------------------\u001b[0m",
      "\u001b[1;31mNameError\u001b[0m                                 Traceback (most recent call last)",
      "\u001b[1;32m<ipython-input-39-bc778798b670>\u001b[0m in \u001b[0;36m<module>\u001b[1;34m\u001b[0m\n\u001b[0;32m      8\u001b[0m     \u001b[1;32mreturn\u001b[0m \u001b[0mfun2\u001b[0m\u001b[1;33m\u001b[0m\u001b[1;33m\u001b[0m\u001b[0m\n\u001b[0;32m      9\u001b[0m \u001b[0mf2\u001b[0m \u001b[1;33m=\u001b[0m \u001b[0mfun\u001b[0m\u001b[1;33m(\u001b[0m\u001b[1;36m10\u001b[0m\u001b[1;33m)\u001b[0m\u001b[1;33m\u001b[0m\u001b[1;33m\u001b[0m\u001b[0m\n\u001b[1;32m---> 10\u001b[1;33m \u001b[0mprint\u001b[0m\u001b[1;33m(\u001b[0m\u001b[0mf2\u001b[0m\u001b[1;33m(\u001b[0m\u001b[1;36m20\u001b[0m\u001b[1;33m)\u001b[0m\u001b[1;33m)\u001b[0m\u001b[1;33m\u001b[0m\u001b[1;33m\u001b[0m\u001b[0m\n\u001b[0m",
      "\u001b[1;32m<ipython-input-39-bc778798b670>\u001b[0m in \u001b[0;36mfun2\u001b[1;34m(j)\u001b[0m\n\u001b[0;32m      4\u001b[0m     \u001b[1;32mdef\u001b[0m \u001b[0mfun2\u001b[0m\u001b[1;33m(\u001b[0m\u001b[0mj\u001b[0m\u001b[1;33m:\u001b[0m\u001b[0mint\u001b[0m\u001b[1;33m)\u001b[0m\u001b[1;33m:\u001b[0m\u001b[1;33m\u001b[0m\u001b[1;33m\u001b[0m\u001b[0m\n\u001b[0;32m      5\u001b[0m         \u001b[1;32mglobal\u001b[0m \u001b[0mn1\u001b[0m\u001b[1;33m\u001b[0m\u001b[1;33m\u001b[0m\u001b[0m\n\u001b[1;32m----> 6\u001b[1;33m         \u001b[0mprint\u001b[0m\u001b[1;33m(\u001b[0m\u001b[0mn1\u001b[0m\u001b[1;33m)\u001b[0m\u001b[1;33m\u001b[0m\u001b[1;33m\u001b[0m\u001b[0m\n\u001b[0m\u001b[0;32m      7\u001b[0m         \u001b[1;32mreturn\u001b[0m \u001b[0mn1\u001b[0m \u001b[1;33m+\u001b[0m \u001b[0mj\u001b[0m\u001b[1;33m\u001b[0m\u001b[1;33m\u001b[0m\u001b[0m\n\u001b[0;32m      8\u001b[0m     \u001b[1;32mreturn\u001b[0m \u001b[0mfun2\u001b[0m\u001b[1;33m\u001b[0m\u001b[1;33m\u001b[0m\u001b[0m\n",
      "\u001b[1;31mNameError\u001b[0m: name 'n1' is not defined"
     ]
    }
   ],
   "source": [
    "# print(i)\n",
    "def fun(n1:int):\n",
    "    print(n1)\n",
    "    def fun2(j:int):\n",
    "        global n1\n",
    "        print(n1)\n",
    "        return n1 + j\n",
    "    return fun2\n",
    "f2 = fun(10)\n",
    "print(f2(20))"
   ]
  },
  {
   "cell_type": "code",
   "execution_count": 106,
   "metadata": {},
   "outputs": [
    {
     "name": "stdout",
     "output_type": "stream",
     "text": [
      "(0, 99)\n",
      "(0, 99)\n",
      "(30, 810)\n",
      "(30, 810)\n"
     ]
    }
   ],
   "source": [
    "def minmax(*data):\n",
    "    min, max = data[0], data[0]\n",
    "    for i in data:\n",
    "        if i < min:\n",
    "            min = i\n",
    "        if i > max:\n",
    "            max = i\n",
    "    return min, max\n",
    "def minmax2(*data):\n",
    "    return min(data), max(data)\n",
    "import random, time\n",
    "def random_generator(seed, count=-1):\n",
    "    \"\"\"\n",
    "    :param seed:\n",
    "    :return:\n",
    "    \"\"\"\n",
    "    # seed the generator\n",
    "    random.seed(seed)\n",
    "    # define a generator\n",
    "    def generator():\n",
    "        c = count\n",
    "        condition = lambda: c != 0\n",
    "        if count == -1:\n",
    "            condition = lambda: True\n",
    "\n",
    "        while condition():\n",
    "            yield random.random()\n",
    "            c-=1\n",
    "\n",
    "    # return the generator\n",
    "    return generator()\n",
    "def execute_all(*funcs, arg=[i for i in range(100)]):\n",
    "    for func in funcs:\n",
    "        print(func(*arg))\n",
    "execute_all(minmax, minmax2)\n",
    "execute_all(minmax, minmax2, arg=[int(i*1000) for i in random_generator(time.time_ns(), 10)])\n"
   ]
  },
  {
   "cell_type": "code",
   "execution_count": 91,
   "metadata": {},
   "outputs": [
    {
     "name": "stdout",
     "output_type": "stream",
     "text": [
      "8 6 4 2 0 -2 -4 -6 -8\n"
     ]
    }
   ],
   "source": [
    "print(*range(8, -9, -2))"
   ]
  },
  {
   "cell_type": "code",
   "execution_count": 104,
   "metadata": {},
   "outputs": [
    {
     "name": "stdout",
     "output_type": "stream",
     "text": [
      "74\n",
      "25\n"
     ]
    }
   ],
   "source": [
    "#Python's random module includes a function choice(data) that returns a random element from a non-empty sequence. The random module includes a more basic function randrange, with parameterization similar to the built-in range function, that return a random choice from the given range. Using only the randrange function, implement your own version of the choice function.\n",
    "import random\n",
    "def choice(data):\n",
    "    return random.choice(data)\n",
    "def randrange(start, stop, step):\n",
    "    return random.randrange(start, stop, step)\n",
    "def choice2(data):\n",
    "    return data[randrange(0, len(data), 1)]\n",
    "# print(choice2([1,2,3,4,5,6,7,8,9]))\n",
    "def execute_all(*funcs, arg=[i for i in range(100)]):\n",
    "    for func in funcs:\n",
    "        print(func(arg))\n",
    "execute_all(choice, choice2)\n"
   ]
  },
  {
   "cell_type": "code",
   "execution_count": null,
   "metadata": {},
   "outputs": [],
   "source": [
    "# function to reverse a list\n",
    "def reverse(lst):\n",
    "    return lst[::-1]\n",
    "# function to reverse a string\n",
    "def reverse_str(s):\n",
    "    return s[::-1]\n",
    "# function to reverse a tuple\n",
    "def reverse_tuple(tup):\n",
    "    return tup[::-1]\n"
   ]
  },
  {
   "cell_type": "code",
   "execution_count": 108,
   "metadata": {},
   "outputs": [
    {
     "name": "stdout",
     "output_type": "stream",
     "text": [
      "[0, 1, 2, 3, 4, 5, 6, 7, 8, 9]\n",
      "[9, 8, 7, 6, 5, 4, 3, 2, 1, 0]\n"
     ]
    }
   ],
   "source": [
    "# Write a pseudo-code description of a function that reverses a list of n integers, so that the numbers are listed in the opposite order than they were before, and compare this method to an equivalent Python function for doing the same thing\n",
    "def reverse_list(lst):\n",
    "    return lst[::-1]\n",
    "def reverse_list2(lst):\n",
    "    lst2 = [*lst]\n",
    "    lst2.reverse()\n",
    "    return lst2\n",
    "\n",
    "l = [*range(10)]\n",
    "rl = [*l]\n",
    "rl.reverse()\n",
    "print(l)\n",
    "print(rl)"
   ]
  },
  {
   "cell_type": "code",
   "execution_count": null,
   "metadata": {},
   "outputs": [],
   "source": [
    "# Write a Python function that takes a sequence of numbers and determines if all the numbers are different from each other (that is, they are distinct)\n",
    "def distinct(lst):\n",
    "    return len(lst) == len(set(lst))"
   ]
  },
  {
   "cell_type": "code",
   "execution_count": 109,
   "metadata": {},
   "outputs": [
    {
     "name": "stdout",
     "output_type": "stream",
     "text": [
      "[0, 2, 6, 12, 20, 30, 42, 56, 72, 90]\n"
     ]
    }
   ],
   "source": [
    "# Demonstrate how to use Python's list comprehension syntax to produce the list [0, 2, 6, 12, 20, 30, 42, 56, 72, 90]\n",
    "def list_comprehension():\n",
    "    return [i*(i+1) for i in range(10)]\n",
    "print(list_comprehension())"
   ]
  },
  {
   "cell_type": "code",
   "execution_count": 110,
   "metadata": {},
   "outputs": [
    {
     "name": "stdout",
     "output_type": "stream",
     "text": [
      "['a', 'b', 'c', 'd', 'e', 'f', 'g', 'h', 'i', 'j', 'k', 'l', 'm', 'n', 'o', 'p', 'q', 'r', 's', 't', 'u', 'v', 'w', 'x', 'y', 'z']\n"
     ]
    }
   ],
   "source": [
    "#  \tDemonstrate how to use Python's list comprehension syntax to produce the list [‘a’, ‘b’ ‘c’ . . ., ‘z’], but without having to type all 26 such characters literally.\n",
    "def list_comprehension2():\n",
    "    return [chr(i) for i in range(97, 123)]\n",
    "print(list_comprehension2())"
   ]
  },
  {
   "cell_type": "code",
   "execution_count": 116,
   "metadata": {},
   "outputs": [
    {
     "name": "stdout",
     "output_type": "stream",
     "text": [
      "[9, 1, 4, 7, 6, 2, 8, 3, 5, 0]\n",
      "[8, 4, 9, 7, 2, 5, 1, 6, 0, 3]\n"
     ]
    }
   ],
   "source": [
    "# Python's random module includes a function shuffle(data) that accepts a list of elements and randomly reorders the elements so that each possible order occurs with equal probability. The random module includes a more basic function randint(a, b) that returns auniformly random integer from a to b (including both endpoints). Using only the randint function, implement your own version of the shuffle function.\n",
    "import random\n",
    "def shuffle(lst):\n",
    "    for i in range(len(lst)):\n",
    "        j = random.randint(0, len(lst)-1)\n",
    "        lst[i], lst[j] = lst[j], lst[i]\n",
    "    return lst\n",
    "def shuffle2(lst):\n",
    "    random.shuffle(lst)\n",
    "    return lst\n",
    "def execute_all(*funcs, arg=[*range(100)]):\n",
    "    for func in funcs:\n",
    "        print(func([*arg]))\n",
    "execute_all(shuffle, shuffle2, arg=[*range(10)])\n"
   ]
  },
  {
   "cell_type": "code",
   "execution_count": 118,
   "metadata": {},
   "outputs": [
    {
     "name": "stdout",
     "output_type": "stream",
     "text": [
      "['hello\\n', 'this is a sample file\\n', 'please close after use']\n",
      "['please close after use', 'this is a sample file\\n', 'hello\\n']\n"
     ]
    }
   ],
   "source": [
    "def read_file(filename):\n",
    "    with open(filename, 'r') as f:\n",
    "        return [*f]\n",
    "def write_file(filename, data):\n",
    "    with open(filename, 'w') as f:\n",
    "        f.write(data)\n",
    "def read_write_file(filename):\n",
    "    write_file(filename, 'hello')\n",
    "    return read_file(filename)\n",
    "# print(read_write_file('test.txt'))\n",
    "fdata =read_file('sample.txt')\n",
    "fdata_reverse = fdata[::-1] #[*fdata]\n",
    "# fdata_reverse.reverse()\n",
    "print(fdata)\n",
    "print(fdata_reverse)\n",
    "\n"
   ]
  },
  {
   "cell_type": "code",
   "execution_count": 119,
   "metadata": {},
   "outputs": [
    {
     "name": "stdout",
     "output_type": "stream",
     "text": [
      "[1, 4, 9, 16, 25]\n"
     ]
    }
   ],
   "source": [
    "# Write a Python program that repeatedly reads lines from standard input until an EOFError is raised, and then outputs those lines in reverse order (a user can indicate end of input by typing ctrl-D)\n",
    "def read_lines():\n",
    "    lst = []\n",
    "    while True:\n",
    "        try:\n",
    "            lst.append(input())\n",
    "        except EOFError:\n",
    "            break\n",
    "    return lst\n",
    "def read_lines2():\n",
    "    lst = []\n",
    "    while True:\n",
    "        try:\n",
    "            lst.append(input())\n",
    "        except EOFError:\n",
    "            break\n",
    "    return lst[::-1]\n",
    "# Write a short Python program that takes two arrays a and b of length n storing int values, and returns the dot product of a and b. That is, it returns an array c of length n such that c[i] = a[i] · b[i], for i = 0,. . ., n – 1.\n",
    "def dot_product(a, b):\n",
    "    if not (isinstance(a, list) and isinstance(b, list)):\n",
    "        raise TypeError('a and b must be lists')\n",
    "    if len(a) != len(b):\n",
    "        raise ValueError('Arrays must be of same length')\n",
    "    return [a[i]*b[i] for i in range(len(a))]\n",
    "\n",
    "print(dot_product([1,2,3,4,5], [1,2,3,4,5]))"
   ]
  },
  {
   "cell_type": "code",
   "execution_count": 121,
   "metadata": {},
   "outputs": [
    {
     "name": "stdout",
     "output_type": "stream",
     "text": [
      "True\n"
     ]
    }
   ],
   "source": [
    "print(True)"
   ]
  },
  {
   "cell_type": "code",
   "execution_count": 125,
   "metadata": {},
   "outputs": [
    {
     "name": "stdout",
     "output_type": "stream",
     "text": [
      "285\n",
      "285\n",
      "285\n"
     ]
    }
   ],
   "source": [
    "# Write a Python program that takes a positive integer n and returns the sum of the squares of all the positive integers smaller than n.\n",
    "def sum_of_squares(n):\n",
    "    sum = 0\n",
    "    for i in range(n):\n",
    "        sum+=i*i\n",
    "    return sum\n",
    "print(sum_of_squares(10))\n",
    "def sum_of_squares2(n):\n",
    "    return sum([i*i for i in range(n)])\n",
    "print(sum_of_squares2(10))\n",
    "\n",
    "def sum_of_squares3(n):\n",
    "    return sum((i*i for i in range(n)))\n",
    "print(sum_of_squares3(10))\n",
    "\n"
   ]
  },
  {
   "cell_type": "code",
   "execution_count": 122,
   "metadata": {},
   "outputs": [
    {
     "name": "stdout",
     "output_type": "stream",
     "text": [
      "Don't try buffer overflow attacks in Python!\n"
     ]
    }
   ],
   "source": [
    "# Give an example of a Python code fragment that attempts to write an element to a list based on an index that may be out of bounds. If that index is out of bounds, the program should catch the exception that results, and print the following error message:\n",
    "# “Don't try buffer overflow attacks in Python!”\n",
    "def write_list(lst, index, value):\n",
    "    try:\n",
    "        lst[index] = value\n",
    "    except IndexError:\n",
    "        print('Don\\'t try buffer overflow attacks in Python!')\n",
    "\n",
    "\n",
    "write_list([1, 2, 3, 4, 5], 5, 6)\n"
   ]
  },
  {
   "cell_type": "code",
   "execution_count": 129,
   "metadata": {},
   "outputs": [
    {
     "name": "stdout",
     "output_type": "stream",
     "text": [
      "2\n",
      "2\n"
     ]
    }
   ],
   "source": [
    "# Write a short Python function that counts the number of vowels in a given character string.\n",
    "def count_vowels(s):\n",
    "    return len([i for i in s if i in 'aeiou'])\n",
    "\n",
    "\n",
    "def count_vowels2(s):\n",
    "    count = 0\n",
    "    for i in s:\n",
    "        if i in 'aeiou':\n",
    "            count += 1\n",
    "    return count\n",
    "\n",
    "\n",
    "print(count_vowels('hello'))\n",
    "print(count_vowels2('hello'))\n"
   ]
  },
  {
   "cell_type": "code",
   "execution_count": 130,
   "metadata": {},
   "outputs": [
    {
     "name": "stdout",
     "output_type": "stream",
     "text": [
      "Lets try Mike\n"
     ]
    }
   ],
   "source": [
    "# Write a short Python function that takes a string s, representing a sentence, and returns a copy of the string with all punctuation removed. For example, if given the string “Let's try, Mike.”, this function would return “Lets try Mike”.\n",
    "def remove_punctuation(s):\n",
    "    return ''.join([i for i in s if i not in '!@#$%^&*()_+-=[]{};\\':\\\"\\\\|,./<>?`~'])\n",
    "print(remove_punctuation('Let\\'s try, Mike.'))\n"
   ]
  },
  {
   "cell_type": "code",
   "execution_count": 135,
   "metadata": {},
   "outputs": [
    {
     "name": "stdout",
     "output_type": "stream",
     "text": [
      "True\n",
      "True\n",
      "True\n",
      "True\n",
      "False\n"
     ]
    }
   ],
   "source": [
    "# Write a short program that takes as input three integers, a, b, and c, from the console and determines if they can be used in a correct arithmetic formula (in the given order), like “a + b = c,” “a = b − c,” or “a * b = c.”\n",
    "def check_formula(a, b, c):\n",
    "    if a+b == c or a == b-c or a*b == c:\n",
    "        return True\n",
    "    return False\n",
    "\n",
    "\n",
    "print(check_formula(1, 2, 3))\n",
    "print(check_formula(1, 3, 2))\n",
    "print(check_formula(2, 1, 3))\n",
    "print(check_formula(2, 3, 1))\n",
    "print(check_formula(3, 1, 2))\n"
   ]
  },
  {
   "cell_type": "code",
   "execution_count": 142,
   "metadata": {},
   "outputs": [
    {
     "name": "stdout",
     "output_type": "stream",
     "text": [
      "[1, 100, 2, 50, 4, 25, 5, 20, 10]\n",
      "[1, 2, 4, 5, 10, 20, 25, 50, 100]\n",
      "[[1], [1, 2], [1, 2, 4], [1, 5], [1, 2, 5, 10], [1, 2, 4, 5, 10, 20], [1, 5, 25], [1, 2, 5, 10, 25, 50], [1, 2, 4, 5, 10, 20, 25, 50, 100]]\n"
     ]
    }
   ],
   "source": [
    "\n",
    "def factors(n):\n",
    "    i = 1\n",
    "    while i * i < n:\n",
    "        if n % i == 0:\n",
    "            yield i\n",
    "            yield n // i\n",
    "        i += 1\n",
    "    if i * i == n:\n",
    "        yield i\n",
    "# the function factors does not yield the factors in increasing order. Modify the generator so that it reports factors in increasing order, while maintaining its general performance advantages.\n",
    "\n",
    "\n",
    "def factors2(n):\n",
    "    i = 1\n",
    "    factors = []\n",
    "    while i * i < n:\n",
    "        if n % i == 0:\n",
    "            factors.append(i)\n",
    "            yield i\n",
    "        i += 1\n",
    "    if i * i == n:\n",
    "        factors.append(i)\n",
    "    factors.reverse()\n",
    "    for i in factors:\n",
    "        yield n // i\n",
    "\n",
    "\n",
    "print(list(factors(100)))\n",
    "print(list(factors2(100)))\n",
    "print([[i for i in factors2(j)] for j in factors2(100)])\n"
   ]
  },
  {
   "cell_type": "code",
   "execution_count": 1,
   "metadata": {},
   "outputs": [
    {
     "name": "stdout",
     "output_type": "stream",
     "text": [
      "5.0\n",
      "4.497941445275415\n",
      "7.0\n"
     ]
    }
   ],
   "source": [
    "#  \tThe p-norm of a vector v = (v1, v2, . . ., vn) in n-dimensional space is defined as\n",
    "# For the special case of p = 2, this results in the traditional Euclidean norm, which represents the length of the vector. For example, the Euclidean norm of a two-dimensional vector with coordinates (4, 3) has a Euclidean norm of images. Give an implementation of a function named norm such that norm(v, p) returns the p-norm value of v and norm(v) returns the Euclidean norm of v. You may assume that v is a list of numbers.\n",
    "def norm(v, p=2):\n",
    "    if not isinstance(v, list):\n",
    "        raise TypeError('v must be a list')\n",
    "    if not isinstance(p, int):\n",
    "        raise TypeError('p must be an integer')\n",
    "    if p < 1:\n",
    "        raise ValueError('p must be greater than 0')\n",
    "    return sum((i**p for i in v))**(1/p)\n",
    "\n",
    "\n",
    "print(norm([3, 4]))\n",
    "print(norm([3, 4], 3))\n",
    "print(norm([3, 4], 1))\n"
   ]
  },
  {
   "cell_type": "code",
   "execution_count": 13,
   "metadata": {},
   "outputs": [
    {
     "name": "stdout",
     "output_type": "stream",
     "text": [
      "['cc', 'ca', 'ct', 'cd', 'co', 'cg', 'ac', 'aa', 'at', 'ad', 'ao', 'ag', 'tc', 'ta', 'tt', 'td', 'to', 'tg', 'dc', 'da', 'dt', 'dd', 'do', 'dg', 'oc', 'oa', 'ot', 'od', 'oo', 'og', 'gc', 'ga', 'gt', 'gd', 'go', 'gg']\n",
      "['ee', 'ex', 'ee', 'ec', 'eu', 'et', 'ei', 'eo', 'en', 'ea', 'er', 'ey', 'xe', 'xx', 'xe', 'xc', 'xu', 'xt', 'xi', 'xo', 'xn', 'xa', 'xr', 'xy', 'ee', 'ex', 'ee', 'ec', 'eu', 'et', 'ei', 'eo', 'en', 'ea', 'er', 'ey', 'ce', 'cx', 'ce', 'cc', 'cu', 'ct', 'ci', 'co', 'cn', 'ca', 'cr', 'cy', 'ue', 'ux', 'ue', 'uc', 'uu', 'ut', 'ui', 'uo', 'un', 'ua', 'ur', 'uy', 'te', 'tx', 'te', 'tc', 'tu', 'tt', 'ti', 'to', 'tn', 'ta', 'tr', 'ty', 'ie', 'ix', 'ie', 'ic', 'iu', 'it', 'ii', 'io', 'in', 'ia', 'ir', 'iy', 'oe', 'ox', 'oe', 'oc', 'ou', 'ot', 'oi', 'oo', 'on', 'oa', 'or', 'oy', 'ne', 'nx', 'ne', 'nc', 'nu', 'nt', 'ni', 'no', 'nn', 'na', 'nr', 'ny', 'ae', 'ax', 'ae', 'ac', 'au', 'at', 'ai', 'ao', 'an', 'aa', 'ar', 'ay', 're', 'rx', 're', 'rc', 'ru', 'rt', 'ri', 'ro', 'rn', 'ra', 'rr', 'ry', 'ye', 'yx', 'ye', 'yc', 'yu', 'yt', 'yi', 'yo', 'yn', 'ya', 'yr', 'yy']\n"
     ]
    }
   ],
   "source": [
    "# Write a Python program that outputs all possible strings formed by using the characters ‘c’, ‘a’, ‘t’, ‘d’, ‘o’, and ‘g’ exactly once.\n",
    "import itertools\n",
    "\n",
    "\n",
    "def all_strings(n, string='catdog'):\n",
    "    if not isinstance(n, int):\n",
    "        raise TypeError('n must be an integer')\n",
    "    if n <= 1:\n",
    "        return list(string)\n",
    "    return [''.join(i) for i in itertools.product(all_strings(n-1, string), list(string))]\n",
    "\n",
    "\n",
    "print(all_strings(2))\n",
    "print(all_strings(2, 'executionary'))\n"
   ]
  },
  {
   "cell_type": "code",
   "execution_count": 16,
   "metadata": {},
   "outputs": [
    {
     "name": "stdout",
     "output_type": "stream",
     "text": [
      "3\n",
      "1\n",
      "0\n",
      "5\n"
     ]
    }
   ],
   "source": [
    "# Write a Python program that can take a positive integer greater than 2 as input and write out the number of times one must repeatedly divide this number by 2 before getting a value less than 2.\n",
    "def div_by_2(n):\n",
    "    if not isinstance(n, int):\n",
    "        raise TypeError('n must be an integer')\n",
    "    if n == 2:\n",
    "        return 1\n",
    "    if n < 2:\n",
    "        return 0\n",
    "    return 1 + div_by_2(n//2)\n",
    "\n",
    "\n",
    "print(div_by_2(10))\n",
    "print(div_by_2(2))\n",
    "print(div_by_2(1))\n",
    "print(div_by_2(32))\n"
   ]
  },
  {
   "cell_type": "code",
   "execution_count": 20,
   "metadata": {},
   "outputs": [
    {
     "name": "stdout",
     "output_type": "stream",
     "text": [
      "{2000: 23, 500: 3, 200: 1, 100: 1, 50: 0, 20: 1, 10: 1, 5: 0, 2: 1, 1: 0}\n",
      "47832\n"
     ]
    }
   ],
   "source": [
    "# Write a Python program that can “make change.” Your program should take two numbers as input, one that is a monetary amount charged and the other that is a monetary amount given. It should then return the number of each kind of bill and coin to give back as change for the difference between the amount given and the amount charged. The values assigned to the bills and coins can be based on the monetary system of any current or former government. Try to design your program so that it returns as few bills and coins as possible.\n",
    "# types of bills and coins : 1, 2, 5, 10, 20, 50, 100, 200, 500, 2000\n",
    "def make_change(amount, bills=[2000, 500, 200, 100, 50, 20, 10, 5, 2, 1]):\n",
    "    if not isinstance(amount, int):\n",
    "        raise TypeError('amount must be an integer')\n",
    "    if amount < 0:\n",
    "        raise ValueError('given must be greater than 0')\n",
    "    if amount == 0:\n",
    "        return 0, 0, 0, 0, 0, 0, 0, 0, 0, 0\n",
    "    bills.sort(reverse=True)\n",
    "    change={}\n",
    "    for bill in bills:\n",
    "        change[bill] = int(amount//bill)\n",
    "        amount = amount - change[bill] * bill\n",
    "    return change\n",
    "print(make_change(47832))\n",
    "sum = 0\n",
    "for k,v in make_change(47832).items():\n",
    "    sum+=k*v\n",
    "print(sum)    "
   ]
  }
 ],
 "metadata": {
  "interpreter": {
   "hash": "3302eebcf7e52c14d71868d015eee8315393a5eb39dbe380d769cb4e6bd351bd"
  },
  "kernelspec": {
   "display_name": "Python 3.8.5 64-bit ('base': conda)",
   "language": "python",
   "name": "python3"
  },
  "language_info": {
   "codemirror_mode": {
    "name": "ipython",
    "version": 3
   },
   "file_extension": ".py",
   "mimetype": "text/x-python",
   "name": "python",
   "nbconvert_exporter": "python",
   "pygments_lexer": "ipython3",
   "version": "3.8.5"
  },
  "orig_nbformat": 4
 },
 "nbformat": 4,
 "nbformat_minor": 2
}
