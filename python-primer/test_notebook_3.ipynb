{
 "cells": [
  {
   "cell_type": "code",
   "execution_count": 6,
   "metadata": {},
   "outputs": [
    {
     "name": "stdout",
     "output_type": "stream",
     "text": [
      "enter number and expression : +, -, *, /, ^, %, //\n",
      "12.0\n",
      "+ 2 = 14.0\n",
      "* 5 = 70.0\n",
      "/ 2 = 35.0\n",
      "// 2 = 17.0\n",
      "^ 2 = 289.0\n",
      "% 7 = 2.0\n",
      "/ 2 = 1.0\n"
     ]
    }
   ],
   "source": [
    "# define a function that takes numbers and operators in form of string and evaluates the expression\n",
    "def eval():\n",
    "    res = 0\n",
    "    start = False\n",
    "\n",
    "    def fun(num, expr='+'):\n",
    "        nonlocal res\n",
    "        nonlocal start\n",
    "        if start:\n",
    "            res = num\n",
    "            start = False\n",
    "            return res\n",
    "        if expr == '+':\n",
    "            res += num\n",
    "        elif expr == '-':\n",
    "            res -= num\n",
    "        elif expr == '*':\n",
    "            res *= num\n",
    "        elif expr == '/':\n",
    "            res /= num\n",
    "        elif expr == '^':\n",
    "            res = res ** num\n",
    "        elif expr == '%':\n",
    "            res = res % num\n",
    "        elif expr == '//':\n",
    "            res = res // num\n",
    "        else:\n",
    "            print('Invalid operator')\n",
    "            return res\n",
    "        return res\n",
    "    return fun\n",
    "\n",
    "\n",
    "calculator = eval()\n",
    "print('enter number and expression : +, -, *, /, ^, %, //')\n",
    "i = input('enter a number')\n",
    "print(calculator(float(i)))\n",
    "while True:\n",
    "    expression = input()\n",
    "    if expression == 'q':\n",
    "        break\n",
    "    number = input()\n",
    "    print(expression, number, '=', calculator(float(number), expression))\n",
    "\n"
   ]
  },
  {
   "cell_type": "code",
   "execution_count": 25,
   "metadata": {},
   "outputs": [
    {
     "name": "stdout",
     "output_type": "stream",
     "text": [
      "False\n"
     ]
    }
   ],
   "source": [
    "# The birthday paradox says that the probability that two people in a room will have the same birthday is more than half, provided n, the number of people in the room, is more than 23. This property is not really a paradox, but many people find it surprising. Design a Python program that can test this paradox by a series of experiments on randomly generated birthdays, which test this paradox for n = 5, 10, 15, 20,. . ., 100.\n",
    "#!/usr/bin/env python3\n",
    "# Path: dsa-in-python\\python-primer\\test_notebook_3.ipynb\n",
    "import random\n",
    "\n",
    "\n",
    "def birthday_paradox():\n",
    "    n = 0\n",
    "    for i in range(100):\n",
    "        n += 1\n",
    "        birthdays = [random.randint(1, 365) for i in range(n)]\n",
    "        if len(set(birthdays)) != n:\n",
    "            return False\n",
    "    return True\n",
    "\n",
    "\n",
    "print(birthday_paradox())"
   ]
  }
 ],
 "metadata": {
  "interpreter": {
   "hash": "3302eebcf7e52c14d71868d015eee8315393a5eb39dbe380d769cb4e6bd351bd"
  },
  "kernelspec": {
   "display_name": "Python 3.8.5 64-bit ('base': conda)",
   "language": "python",
   "name": "python3"
  },
  "language_info": {
   "codemirror_mode": {
    "name": "ipython",
    "version": 3
   },
   "file_extension": ".py",
   "mimetype": "text/x-python",
   "name": "python",
   "nbconvert_exporter": "python",
   "pygments_lexer": "ipython3",
   "version": "3.8.5"
  },
  "orig_nbformat": 4
 },
 "nbformat": 4,
 "nbformat_minor": 2
}
