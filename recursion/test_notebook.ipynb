{
 "cells": [
  {
   "cell_type": "code",
   "execution_count": null,
   "metadata": {},
   "outputs": [
    {
     "name": "stdout",
     "output_type": "stream",
     "text": [
      "10\n"
     ]
    }
   ],
   "source": [
    "def F(N):\n",
    "    if N < 1:\n",
    "        return 0\n",
    "    if N == 1:\n",
    "        return 1\n",
    "    return F(N - 1) + N\n",
    "\n",
    "\n",
    "print(F(4))"
   ]
  },
  {
   "cell_type": "code",
   "execution_count": null,
   "metadata": {},
   "outputs": [
    {
     "name": "stdout",
     "output_type": "stream",
     "text": [
      "1\n",
      "1\n"
     ]
    }
   ],
   "source": [
    "# fibonacci numbers recursively\n",
    "count = 0\n",
    "def F(N):\n",
    "    global count\n",
    "    count += 1\n",
    "    print(count)\n",
    "    if N < 1:\n",
    "        return 0\n",
    "    if N == 1:\n",
    "        return 1\n",
    "    return F(N - 1) + F(N - 2)\n",
    "print(F(1))"
   ]
  },
  {
   "cell_type": "code",
   "execution_count": null,
   "metadata": {},
   "outputs": [
    {
     "name": "stdout",
     "output_type": "stream",
     "text": [
      "1\n"
     ]
    }
   ],
   "source": [
    "def F(N): return F(N - 1) + F(N - 2) if N > 1 else 1\n",
    "print(F(1))"
   ]
  },
  {
   "cell_type": "code",
   "execution_count": null,
   "metadata": {},
   "outputs": [
    {
     "name": "stdout",
     "output_type": "stream",
     "text": [
      "maximum recursion depth exceeded while calling a Python object\n",
      "2963\n"
     ]
    }
   ],
   "source": [
    "count = 0\n",
    "def factorial(n):\n",
    "    global count \n",
    "    count += 1\n",
    "    if not (isinstance(n, int) and n >= 0):\n",
    "        raise ValueError(\"n must be a non-negative integer\")\n",
    "    if n <= 0:\n",
    "        return 1\n",
    "    return n * factorial(n - 1)\n",
    "# try:\n",
    "#     print(factorial(-1))\n",
    "# except ValueError as e:\n",
    "#     print(e)\n",
    "# print(factorial(0))\n",
    "# print(factorial(1))\n",
    "# print(factorial(10))\n",
    "# print(factorial(20))\n",
    "# print(factorial(50))\n",
    "# print(factorial(100))\n",
    "# print(factorial(200))\n",
    "# print(factorial(500))\n",
    "# print(factorial(1000))\n",
    "# print(factorial(2000))\n",
    "try:\n",
    "    print(factorial(5000))\n",
    "except RecursionError as e:\n",
    "    print(e)\n",
    "print(count)\n",
    "\n",
    "\n",
    "\n",
    "\n",
    "\n",
    "\n",
    "\n",
    "\n",
    "\n"
   ]
  },
  {
   "cell_type": "code",
   "execution_count": null,
   "metadata": {},
   "outputs": [
    {
     "name": "stdout",
     "output_type": "stream",
     "text": [
      "-----0\n",
      "-\n",
      "--\n",
      "-\n",
      "---\n",
      "-\n",
      "--\n",
      "-\n",
      "----\n",
      "-\n",
      "--\n",
      "-\n",
      "---\n",
      "-\n",
      "--\n",
      "-\n",
      "-----1\n",
      "-\n",
      "--\n",
      "-\n",
      "---\n",
      "-\n",
      "--\n",
      "-\n",
      "----\n",
      "-\n",
      "--\n",
      "-\n",
      "---\n",
      "-\n",
      "--\n",
      "-\n",
      "-----2\n",
      "-\n",
      "--\n",
      "-\n",
      "---\n",
      "-\n",
      "--\n",
      "-\n",
      "----\n",
      "-\n",
      "--\n",
      "-\n",
      "---\n",
      "-\n",
      "--\n",
      "-\n",
      "-----3\n",
      "-\n",
      "--\n",
      "-\n",
      "---\n",
      "-\n",
      "--\n",
      "-\n",
      "----\n",
      "-\n",
      "--\n",
      "-\n",
      "---\n",
      "-\n",
      "--\n",
      "-\n",
      "-----4\n"
     ]
    }
   ],
   "source": [
    "\n",
    "class EnglishRuler:\n",
    "    def __init__(self, num_inches, major_length):\n",
    "        self.__num_inches = num_inches\n",
    "        self.__major_length = major_length\n",
    "    \n",
    "    #draw line method\n",
    "    def draw_line(self, tick_length, tick_label=''):\n",
    "        line ='-'*tick_length\n",
    "        if tick_label:\n",
    "            line += ''+tick_label\n",
    "        print(line)\n",
    "        \n",
    "    #draw interval method    \n",
    "    def draw_interval(self, center_length):\n",
    "        if center_length>0:\n",
    "            self.draw_interval(center_length - 1)\n",
    "            self.draw_line(center_length)\n",
    "            self.draw_interval(center_length - 1)\n",
    "            \n",
    "    #draw ruler method        \n",
    "    def draw_ruler(self):\n",
    "        self.draw_line(self.__major_length, '0')\n",
    "        for j in range(1, 1+self.__num_inches):\n",
    "            self.draw_interval(self.__major_length- 1)\n",
    "            self.draw_line(self.__major_length, str(j))\n",
    "            \n",
    "\n",
    "ruler = EnglishRuler(4,5)\n",
    "ruler.draw_ruler()"
   ]
  },
  {
   "cell_type": "code",
   "execution_count": null,
   "metadata": {},
   "outputs": [
    {
     "name": "stdout",
     "output_type": "stream",
     "text": [
      "1024\n",
      "1024\n"
     ]
    }
   ],
   "source": [
    "def power(x, n):\n",
    "    if n == 0:\n",
    "        return 1\n",
    "    if n % 2 == 0:\n",
    "        return power(x, n // 2) ** 2\n",
    "    else:\n",
    "        return x * power(x, n - 1)\n",
    "def power2(x, n):\n",
    "    res = 1\n",
    "    for i in range(n):\n",
    "        res = res * x\n",
    "    return res\n",
    "\n",
    "\n",
    "print(power(2, 10))\n",
    "\n",
    "print(power2(2, 10))"
   ]
  },
  {
   "cell_type": "code",
   "execution_count": null,
   "metadata": {},
   "outputs": [
    {
     "name": "stdout",
     "output_type": "stream",
     "text": [
      "sys.version_info(major=3, minor=8, micro=5, releaselevel='final', serial=0)\n",
      "2\n",
      "3\n"
     ]
    }
   ],
   "source": [
    "import math\n",
    "from sys import version_info\n",
    "print(version_info)\n",
    "print(math.floor(2.5))\n",
    "print(math.ceil(2.5))\n"
   ]
  }
 ],
 "metadata": {
  "language_info": {
   "name": "python"
  },
  "orig_nbformat": 4
 },
 "nbformat": 4,
 "nbformat_minor": 2
}
